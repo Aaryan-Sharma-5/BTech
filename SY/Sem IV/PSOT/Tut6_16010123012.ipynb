{
 "cells": [
  {
   "cell_type": "markdown",
   "id": "89ab9d05",
   "metadata": {},
   "source": [
    "# Tutorial 6 - Hypothesis Testing\n",
    "# Name - Aaryan Sharma\n",
    "# Roll No. - 16010123012\n",
    "# Batch - A1"
   ]
  },
  {
   "cell_type": "markdown",
   "id": "f9e4484f",
   "metadata": {},
   "source": [
    "Q1. A random sample of 200 observations has mean 6.5 cm. Can it be a random sample from a population whose mean is 7 cm and variance is 8.5 cm ?"
   ]
  },
  {
   "cell_type": "code",
   "execution_count": 2,
   "id": "541b5fb8",
   "metadata": {
    "scrolled": true
   },
   "outputs": [
    {
     "name": "stdout",
     "output_type": "stream",
     "text": [
      "Q.No.: 1\n",
      "Aaryan Sharma - 16010123012\n",
      "Absolute value of z-calculated is: 2.4253562503633295\n",
      "Critical z-value is: 1.959963984540054\n",
      "Reject the null hypothesis: The sample is unlikely from the given population.\n"
     ]
    }
   ],
   "source": [
    "import math\n",
    "from scipy.stats import norm\n",
    "\n",
    "print(\"Q.No.: 1\")\n",
    "print(\"Aaryan Sharma - 16010123012\")\n",
    "\n",
    "# Given data\n",
    "pm = 7   \n",
    "sm = 6.5  \n",
    "variance = 8.5  \n",
    "sd = math.sqrt(variance) \n",
    "n = 200  \n",
    "\n",
    "# Calculate the absolute value of the z-score\n",
    "zcal = abs((sm - pm) / (sd / math.sqrt(n)))\n",
    "\n",
    "# Critical value for 95% confidence level (two-tailed test)\n",
    "z_critical = norm.ppf(0.975)  # 1.96 for 95% confidence\n",
    "\n",
    "# Print the results\n",
    "print(\"Absolute value of z-calculated is:\", zcal)\n",
    "print(\"Critical z-value is:\", z_critical)\n",
    "\n",
    "# Hypothesis test conclusion\n",
    "if zcal > z_critical:\n",
    "    print(\"Reject the null hypothesis: The sample is unlikely from the given population.\")\n",
    "else:\n",
    "    print(\"Fail to reject the null hypothesis: The sample could be from the given population.\")\n",
    "\n"
   ]
  },
  {
   "cell_type": "markdown",
   "id": "4d433ae4",
   "metadata": {},
   "source": [
    "Q2. An examination of the weight of 9 apples provided the following data : 150, 152, 149, 151, 148, 152, 150, 151 and 153 grams. Investigate whether the average weight of the apples can be assumed to be 151 grams."
   ]
  },
  {
   "cell_type": "code",
   "execution_count": 4,
   "id": "19fac9ac",
   "metadata": {},
   "outputs": [
    {
     "name": "stdout",
     "output_type": "stream",
     "text": [
      "Q.No.: 2\n",
      "Aaryan Sharma - 16010123012\n",
      "Sample Mean: 150.66666666666666\n",
      "Sample Standard Deviation: 1.4907119849998598\n",
      "Computed t-score: -0.632455532033694\n",
      "Critical t-value: 2.306004135204166\n",
      "Fail to reject the null hypothesis: The average weight can be assumed to be 151 grams.\n"
     ]
    }
   ],
   "source": [
    "import math\n",
    "from scipy.stats import t\n",
    "\n",
    "print(\"Q.No.: 2\")\n",
    "print(\"Aaryan Sharma - 16010123012\")\n",
    "\n",
    "# Given data\n",
    "sample_data = [150, 152, 149, 151, 148, 152, 150, 151, 153] \n",
    "n = len(sample_data)\n",
    "sample_mean = sum(sample_data) / n  \n",
    "pop_mean = 151 \n",
    "\n",
    "# Compute sample standard deviation\n",
    "variance = sum((x - sample_mean) ** 2 for x in sample_data) /n\n",
    "sd = math.sqrt(variance)\n",
    "\n",
    "# Compute t-score\n",
    "t_score = (sample_mean - pop_mean) / (sd / math.sqrt(n-1))\n",
    "\n",
    "# Critical t-value for 95% confidence level (two-tailed test)\n",
    "df = n - 1  \n",
    "t_critical = t.ppf(0.975, df)\n",
    "\n",
    "# Print results\n",
    "print(\"Sample Mean:\", sample_mean)\n",
    "print(\"Sample Standard Deviation:\", sd)\n",
    "print(\"Computed t-score:\", t_score)\n",
    "print(\"Critical t-value:\", t_critical)\n",
    "\n",
    "# Hypothesis test conclusion\n",
    "if abs(t_score) > t_critical:\n",
    "    print(\"Reject the null hypothesis: The average weight is significantly different from 151 grams.\")\n",
    "else:\n",
    "    print(\"Fail to reject the null hypothesis: The average weight can be assumed to be 151 grams.\")\n"
   ]
  },
  {
   "cell_type": "markdown",
   "id": "bccbf0da",
   "metadata": {},
   "source": [
    "Q3. Twenty students participated in a mathematics competition. They were provided with additional tutoring sessions for a month before participating in another similar competition. The scores of each student in both competitions were recorded. Test if the scores provided below indicate that the tutoring sessions had a positive impact on the students' performance.\n",
    "Scores in Competition 1: 85, 78, 72, 90, 93, 65, 79, 81, 70, 75, 87, 69, 82, 74, 86, 88, 91, 73, 77, 84\n",
    "Scores in Competition 2: 88, 80, 75, 91, 95, 68, 82, 84, 73, 79, 89, 71, 85, 77, 90, 92, 94, 76, 78, 83\n",
    "\n"
   ]
  },
  {
   "cell_type": "code",
   "execution_count": 6,
   "id": "905a1286",
   "metadata": {},
   "outputs": [
    {
     "name": "stdout",
     "output_type": "stream",
     "text": [
      "Q.No.: 3\n",
      "Aaryan Sharma - 16010123012\n",
      "Mean difference: 2.55\n",
      "Sample standard deviation of differences: 1.190974832912761\n",
      "Computed t-score: 9.575304506946091\n",
      "Critical t-value (one-tailed, 95%): 1.729132811521367\n",
      "Reject the null hypothesis: Tutoring sessions significantly improved students' performance.\n"
     ]
    }
   ],
   "source": [
    "import math\n",
    "from scipy.stats import t\n",
    "\n",
    "print(\"Q.No.: 3\")\n",
    "print(\"Aaryan Sharma - 16010123012\")\n",
    "\n",
    "# Scores before and after tutoring\n",
    "scores_before = [85, 78, 72, 90, 93, 65, 79, 81, 70, 75, 87, 69, 82, 74, 86, 88, 91, 73, 77, 84]\n",
    "scores_after = [88, 80, 75, 91, 95, 68, 82, 84, 73, 79, 89, 71, 85, 77, 90, 92, 94, 76, 78, 83]\n",
    "\n",
    "# Calculate differences\n",
    "differences = [scores_after[i] - scores_before[i] for i in range(len(scores_before))]\n",
    "n = len(differences)\n",
    "\n",
    "# Calculate mean and standard deviation of differences\n",
    "mean_diff = sum(differences) / n\n",
    "var_diff = sum((x - mean_diff) ** 2 for x in differences) / (n - 1)  \n",
    "sd_diff = math.sqrt(var_diff)\n",
    "\n",
    "# Compute t-score for paired data\n",
    "t_score = mean_diff / (sd_diff / math.sqrt(n))\n",
    "\n",
    "# Degrees of freedom\n",
    "df = n - 1\n",
    "\n",
    "# Critical t-value for one-tailed test (95% confidence)\n",
    "t_critical = t.ppf(0.95, df)\n",
    "\n",
    "# Print results\n",
    "print(\"Mean difference:\", mean_diff)\n",
    "print(\"Sample standard deviation of differences:\", sd_diff)\n",
    "print(\"Computed t-score:\", t_score)\n",
    "print(\"Critical t-value (one-tailed, 95%):\", t_critical)\n",
    "\n",
    "# Hypothesis test conclusion\n",
    "if t_score > t_critical:\n",
    "    print(\"Reject the null hypothesis: Tutoring sessions significantly improved students' performance.\")\n",
    "else:\n",
    "    print(\"Fail to reject the null hypothesis: No significant evidence that tutoring improved performance.\")\n"
   ]
  },
  {
   "cell_type": "markdown",
   "id": "a9e9ec3e",
   "metadata": {},
   "source": [
    "Q4. Test the Significance of the Difference Between Means  \n",
    "\n",
    "Test the significance of the difference between the means of two normal populations with the same standard deviation from the following data:  \n",
    "\n",
    "| Sample   | Size (n) | Mean (x̄) | Standard Deviation (σ) |\n",
    "|----------|---------|----------|-------------------------|\n",
    "| Sample-1 | 1000     | 25       | 5                      |\n",
    "| Sample-2 | 2000     | 23       | 7                      |"
   ]
  },
  {
   "cell_type": "code",
   "execution_count": 7,
   "id": "8d70e239",
   "metadata": {},
   "outputs": [
    {
     "name": "stdout",
     "output_type": "stream",
     "text": [
      "Q.No.: 4\n",
      "Aaryan Sharma - 16010123012\n",
      "Absolute value of z-calculated is: 8.064778385455119\n",
      "Critical z-value is: 1.959963984540054\n",
      "Reject the null hypothesis: There is a significant difference between the means.\n"
     ]
    }
   ],
   "source": [
    "import math\n",
    "from scipy.stats import norm\n",
    "\n",
    "print(\"Q.No.: 4\")\n",
    "print(\"Aaryan Sharma - 16010123012\")\n",
    "\n",
    "# Given data for two samples\n",
    "n1 = 1000 \n",
    "mean1 = 25 \n",
    "std1 = 5  \n",
    "\n",
    "n2 = 2000 \n",
    "mean2 = 23  \n",
    "std2 = 7  \n",
    "\n",
    "# Since the populations have the same standard deviation, we use 𝑆.𝐸.=√((𝑠_1^2)/𝑛_2 +(𝑠_2^2)/𝑛_1 )\n",
    "se = math.sqrt(( std1**2/n2) + (std2**2/n1))\n",
    "\n",
    "# Compute z-score for difference of means\n",
    "zcal = abs((mean1 - mean2) / se)\n",
    "\n",
    "# Critical value for 95% confidence level (two-tailed test)\n",
    "z_critical = norm.ppf(0.975)  # 1.96 for 95% confidence\n",
    "\n",
    "# Print the results\n",
    "print(\"Absolute value of z-calculated is:\", zcal)\n",
    "print(\"Critical z-value is:\", z_critical)\n",
    "\n",
    "# Hypothesis test conclusion\n",
    "if zcal > z_critical:\n",
    "    print(\"Reject the null hypothesis: There is a significant difference between the means.\")\n",
    "else:\n",
    "    print(\"Fail to reject the null hypothesis: No significant difference between the means.\")\n"
   ]
  },
  {
   "cell_type": "markdown",
   "id": "49cdf911",
   "metadata": {},
   "source": [
    "Q5. The weights of eight randomly selected athletes are recorded in kilograms: 70, 75, 78, 80, 82,\n",
    "\t85, 87, 90. The weights of twelve randomly selected basketball players are recorded in \n",
    "\tkilograms: 72, 74, 76, 78, 79, 80, 82, 83, 84, 85, 87, 88. Can it be concluded that basketball \n",
    "\tplayers, on average, weigh more than athletes?\n",
    "\n"
   ]
  },
  {
   "cell_type": "code",
   "execution_count": 8,
   "id": "2682ca75",
   "metadata": {},
   "outputs": [
    {
     "name": "stdout",
     "output_type": "stream",
     "text": [
      "Q.No.: 5\n",
      "Aaryan Sharma - 16010123012\n",
      "Mean weight of athletes: 80.875\n",
      "Mean weight of basketball players: 80.66666666666667\n",
      "Computed t-score: -0.0801640588411159\n",
      "Critical t-value (one-tailed, 95%): 1.7340636066175354\n",
      "Fail to reject the null hypothesis: No significant evidence that basketball players weigh more than athletes.\n"
     ]
    }
   ],
   "source": [
    "import math\n",
    "from scipy.stats import t\n",
    "\n",
    "print(\"Q.No.: 5\")\n",
    "print(\"Aaryan Sharma - 16010123012\")\n",
    "\n",
    "# Weights of athletes and basketball players\n",
    "athletes = [70, 75, 78, 80, 82, 85, 87, 90]\n",
    "basketball_players = [72, 74, 76, 78, 79, 80, 82, 83, 84, 85, 87, 88]\n",
    "\n",
    "# Compute sample statistics\n",
    "n1 = len(athletes)\n",
    "n2 = len(basketball_players)\n",
    "\n",
    "mean1 = sum(athletes) / n1\n",
    "mean2 = sum(basketball_players) / n2\n",
    "\n",
    "# Sample variances (corrected by dividing by n-1)\n",
    "var1 = sum((x - mean1) ** 2 for x in athletes) / (n1 - 1)\n",
    "var2 = sum((x - mean2) ** 2 for x in basketball_players) / (n2 - 1)\n",
    "\n",
    "# Pooled standard deviation calculation\n",
    "sp = math.sqrt(((n1 - 1)*var1 + (n2 - 1)*var2) / (n1 + n2 - 2))\n",
    "\n",
    "# Compute t-score for difference in means\n",
    "t_score = (mean2 - mean1) / (sp * math.sqrt(1/n1 + 1/n2))\n",
    "\n",
    "# Degrees of freedom\n",
    "df = n1 + n2 - 2\n",
    "\n",
    "# Critical t-value for one-tailed test (95% confidence)\n",
    "t_critical = t.ppf(0.95, df)\n",
    "\n",
    "# Print results\n",
    "print(\"Mean weight of athletes:\", mean1)\n",
    "print(\"Mean weight of basketball players:\", mean2)\n",
    "print(\"Computed t-score:\", t_score)\n",
    "print(\"Critical t-value (one-tailed, 95%):\", t_critical)\n",
    "\n",
    "# Hypothesis test conclusion\n",
    "if t_score > t_critical:\n",
    "    print(\"Reject the null hypothesis: Basketball players weigh significantly more than athletes.\")\n",
    "else:\n",
    "    print(\"Fail to reject the null hypothesis: No significant evidence that basketball players weigh more than athletes.\")\n"
   ]
  }
 ],
 "metadata": {
  "kernelspec": {
   "display_name": "Python 3",
   "language": "python",
   "name": "python3"
  },
  "language_info": {
   "codemirror_mode": {
    "name": "ipython",
    "version": 3
   },
   "file_extension": ".py",
   "mimetype": "text/x-python",
   "name": "python",
   "nbconvert_exporter": "python",
   "pygments_lexer": "ipython3",
   "version": "3.12.9"
  }
 },
 "nbformat": 4,
 "nbformat_minor": 5
}
